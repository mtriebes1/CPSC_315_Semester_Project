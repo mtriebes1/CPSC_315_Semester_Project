{
 "cells": [
  {
   "cell_type": "markdown",
   "metadata": {},
   "source": [
    "# Project Proposal: Australian Rain Predictor"
   ]
  },
  {
   "source": [
    "## By: Scott Campbell, Matthew Triebes"
   ],
   "cell_type": "markdown",
   "metadata": {}
  },
  {
   "source": [
    "### Dataset description\n",
    "We sourced our dataset from Kaggle.com: https://www.kaggle.com/jsphyg/weather-dataset-rattle-package\n",
    "\n",
    "The dataset is formatted as a csv file with the instances as rows and the attributes as columns. The attributes of interest are: MinTemp, MaxTemp, Temp9am, Temp3pm, RainfallAmount, WindSpeed9am, WindSpeed3pm, Humidity9am, Humidity3pm, Pressure9am, Pressure3pm, RainToday, RainTomorrow. The temperature, wind speed, humidity and pressure attributes are all self explanatory. The rainfall amount attribute is the amount of rainfall accumulated over the day measured in mm. The RainToday and RainTomorrow attributes are both binary classes of yes or no.\n",
    "\n",
    "There are several potentially interesting things that could be learned from this dataset. For example, one might be to predict the rainfall amount classified by ranges of amount (e.g. light, medium, heavy) given the temperature, humidity, pressure, and wind speed attributes. Another potential would be to simply classify whether or not it would rain on a particular day given only a limited range of information such as morning temp, humidity and pressure vs. the equivalent in the afternoon. \n"
   ],
   "cell_type": "markdown",
   "metadata": {}
  },
  {
   "source": [
    "### Implementation/technical merit\n",
    "\n",
    "1. **Anticipated challenges in pre-processing and/or classification?**\n",
    "\n",
    "    There are a lot of NULL values in the data set that would probably need to be trimmed in order to get better predictions. That being said, most are in the sunshine and evaporation columns which we probably wouldn’t use for     our prediction anyways. Along with that, the table contains 23 columns so we’d have to figure out which ones are most applicable to us.\n",
    "\n",
    "2. **If the number of attributes is large, how will you explore feature selection techniques to pare down the attributes?**\n",
    "\n",
    "    With a lot of things like temperature or humidity, we can split the range of attributes into bins which should help pare down the attributes. This will be very similar to what we did with the MPG data.\n",
    "\n",
    "\n"
   ],
   "cell_type": "markdown",
   "metadata": {}
  },
  {
   "source": [
    "### Potential impact of the results\n",
    "1. **Why are these results useful?**\n",
    "\n",
    "    The results could help predict if there will be rain which would be useful to anyone planning on doing any outdoor activities. Knowing if there will be rain is nice because that’s usually something that we all plan our day     around.\n",
    "\n",
    "2. **Who are stakeholders (users/groups that are impacted by the outcome of the project) interested in these results?**\n",
    "\n",
    "    Farmers might be the most impacted. They have to do most of their work outside and rain is important for their crops to grow. This could help them save water costs and help overall with planning their week.\n"
   ],
   "cell_type": "markdown",
   "metadata": {}
  }
 ],
 "metadata": {
  "kernelspec": {
   "display_name": "Python 3",
   "language": "python",
   "name": "python3"
  },
  "language_info": {
   "codemirror_mode": {
    "name": "ipython",
    "version": 3
   },
   "file_extension": ".py",
   "mimetype": "text/x-python",
   "name": "python",
   "nbconvert_exporter": "python",
   "pygments_lexer": "ipython3",
   "version": "3.8.5"
  }
 },
 "nbformat": 4,
 "nbformat_minor": 4
}